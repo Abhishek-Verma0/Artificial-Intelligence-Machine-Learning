{
 "cells": [
  {
   "cell_type": "markdown",
   "id": "b05f0fd7-b021-47a3-9970-de6bd86fd781",
   "metadata": {},
   "source": [
    " - What is an array ?\n",
    " An array is a structure for storing and retrieving data. We often talk about an array as if it were a grid in space, with each cell storing one element of the data.\n",
    "    Arrays are homogenous "
   ]
  },
  {
   "cell_type": "code",
   "execution_count": 3,
   "id": "039a4186-1584-499b-8f00-98631daff9c2",
   "metadata": {},
   "outputs": [
    {
     "name": "stdout",
     "output_type": "stream",
     "text": [
      "[1 2 3 4 5 6]\n",
      "3\n",
      "[1 2 3]\n"
     ]
    }
   ],
   "source": [
    "#  very basic import library \n",
    "import numpy as np\n",
    " #  cration of array\n",
    "a = np.array([1, 2, 3, 4, 5, 6])\n",
    "\n",
    "#  printing the array\n",
    "print(a)\n",
    "#  accessing using indices \n",
    "print(a[2])\n",
    "#  using slice notation same as python\n",
    "print(a[:3])"
   ]
  },
  {
   "cell_type": "markdown",
   "id": "041d973d-aa03-467c-bab4-973cb4d108d3",
   "metadata": {},
   "source": [
    "In NumPy sometime a `dimension` is also called as `axis`.\n",
    "For instance, the array a could represent three points, each lying within a four-dimensional space, but a has only two “axes”.\n",
    "* 0-D (zero-dimensional) array referred to as a “scalar”\n",
    "* 1-D (one-dimensional) array as a “vector”\n",
    "* 2-D (two-dimensional) array as a “matrix”\n",
    "* an N-D (N-dimensional, where “N” is typically an integer greater than 2) array as a “tensor”. "
   ]
  },
  {
   "cell_type": "code",
   "execution_count": 5,
   "id": "dd44df23-c79d-45e2-829c-ff7dd189a3e0",
   "metadata": {},
   "outputs": [
    {
     "data": {
      "text/plain": [
       "array([[ 1,  2,  3,  4],\n",
       "       [ 5,  6,  7,  8],\n",
       "       [ 9, 10, 11, 12]])"
      ]
     },
     "execution_count": 5,
     "metadata": {},
     "output_type": "execute_result"
    }
   ],
   "source": [
    "#  multidimensional array \n",
    "a = np.array([[1, 2, 3, 4], [5, 6, 7, 8], [9, 10, 11, 12]])\n",
    "# a\n",
    "print(a)\n",
    "\n"
   ]
  },
  {
   "cell_type": "markdown",
   "id": "3823ab01-a105-4808-9493-3689a1bf55d7",
   "metadata": {},
   "source": [
    "# Array attributes\n",
    "* ndim --  The number of dimensions of an array is contained in the ndim attribute\n",
    "* shape -- The shape of an array is a tuple of non-negative integers that specify the number of elements along each dimension.\n",
    "* size --  fixed, total number of elements in array is contained in the size attribute\n",
    "* dtype -- The data type is recorded in the dtype attribute."
   ]
  },
  {
   "cell_type": "code",
   "execution_count": 11,
   "id": "98eef293-6d80-49a5-940f-028d8c2a9f77",
   "metadata": {},
   "outputs": [
    {
     "name": "stdout",
     "output_type": "stream",
     "text": [
      "2\n",
      "(3, 4)\n",
      "True\n",
      "12\n",
      "int64\n"
     ]
    }
   ],
   "source": [
    "print(a.ndim)\n",
    "print(a.shape)\n",
    "print(len(a.shape)==a.ndim)  \n",
    "\n",
    "print(a.size)\n",
    "print(a.dtype)"
   ]
  },
  {
   "cell_type": "markdown",
   "id": "673b90c7-dbc9-462c-949b-e894efa73f01",
   "metadata": {},
   "source": [
    "# Creation of basic arrays\n",
    "* np.zeros() --  creating an array from a sequence of elements, you can easily create an array filled with 0’s\n",
    "* np.ones() --  an array filled with 1’s\n",
    "* np.empty() -- creates an array whose initial content is random and depends on the state of the memory means random values filled.\n",
    "* np.arange()--  create an array with a range of elements we can also use step_size to make ap kind of thing.\n",
    "* np.linspace() -- create an array with values that are spaced linearly in a specified interval or space or gap\n",
    "* "
   ]
  },
  {
   "cell_type": "code",
   "execution_count": 20,
   "id": "d9d74fd6-dd81-43c5-a535-dbe71c75b2db",
   "metadata": {},
   "outputs": [
    {
     "name": "stdout",
     "output_type": "stream",
     "text": [
      "[0. 0.]\n",
      "[1. 1.]\n",
      "[ 2.5  5.   7.5 10. ]\n",
      "[0 1 2 3]\n",
      "using step [2 4 6 8]\n",
      "[ 0.   2.5  5.   7.5 10. ]\n",
      "int64\n"
     ]
    }
   ],
   "source": [
    "print(np.zeros(2))\n",
    "print(np.ones(2))\n",
    "\n",
    "print(np.empty(4))\n",
    "print(np.arange(4))\n",
    "\n",
    "print(\"using step\",np.arange(2, 9, 2))\n",
    "print(np.linspace(0, 10, num=5))\n",
    "\n",
    "#  specifying the type of data\n",
    "x = np.ones(2, dtype=np.int64)\n",
    "print(x.dtype)"
   ]
  },
  {
   "cell_type": "markdown",
   "id": "bc87dce2-2763-4169-9be7-20d9ccf60789",
   "metadata": {},
   "source": [
    "# Adding, removing, and sorting elements \n",
    "* np.sort() -- sorts the array\n",
    "    argsort, which is an indirect sort along a specified axis,\n",
    "    lexsort, which is an indirect stable sort on multiple keys,\n",
    "    searchsorted, which will find elements in a sorted array,\n",
    "    partition, which is a partial sort.\n",
    "* np.concatenate() -- Concatente two array"
   ]
  },
  {
   "cell_type": "code",
   "execution_count": 23,
   "id": "9ea97527-0146-4741-a1d4-a9473a4b0166",
   "metadata": {},
   "outputs": [
    {
     "name": "stdout",
     "output_type": "stream",
     "text": [
      "[1 2 3 4 5 6 7 8]\n"
     ]
    },
    {
     "data": {
      "text/plain": [
       "array([[1, 2],\n",
       "       [3, 4],\n",
       "       [5, 6]])"
      ]
     },
     "execution_count": 23,
     "metadata": {},
     "output_type": "execute_result"
    }
   ],
   "source": [
    "a = np.array([1, 2, 3, 4])\n",
    "b = np.array([5, 6, 7, 8])\n",
    "\n",
    "print(np.concatenate((a, b)))\n",
    "\n",
    "\n",
    "x = np.array([[1, 2], [3, 4]])\n",
    "\n",
    "y = np.array([[5, 6]])\n",
    "np.concatenate((x, y), axis=0)"
   ]
  },
  {
   "cell_type": "markdown",
   "id": "b4cd2beb-9ab7-4c6a-8220-194455cf8501",
   "metadata": {},
   "source": [
    "# Can you reshape an array?\n",
    " Yes we can do it by using the  - arr.reshape()\n",
    " Using arr.reshape() will give a new shape to an array without changing the data. Just remember that when you use the reshape method, the array you want to produce needs to have the same number of elements as the original array. If you start with an array with 12 elements, you’ll need to make sure that your new array also has a total of 12 elements"
   ]
  },
  {
   "cell_type": "code",
   "execution_count": 25,
   "id": "501fbbfe-0814-4102-8a63-03bc61db28ac",
   "metadata": {},
   "outputs": [
    {
     "name": "stdout",
     "output_type": "stream",
     "text": [
      "[0 1 2 3 4 5]\n",
      "[[0 1]\n",
      " [2 3]\n",
      " [4 5]]\n"
     ]
    }
   ],
   "source": [
    "a = np.arange(6)\n",
    "print(a)\n",
    "b = a.reshape(3, 2) # resaping the array\n",
    "print(b)"
   ]
  },
  {
   "cell_type": "markdown",
   "id": "204704e6-9be2-419b-b9e0-82a9a872d379",
   "metadata": {},
   "source": [
    "## How to convert a 1D array into a 2D array (how to add a new axis to an array)\n",
    " np.newaxis and np.expand_dims to increase the dimensions of your existing array\n",
    " * np.newaxis-- it will increase the dimensions of your array by one dimension when used once.\n",
    " * np.expand_dims -- You can also expand an array by inserting a new axis at a specified position with it"
   ]
  },
  {
   "cell_type": "code",
   "execution_count": 27,
   "id": "27153b39-be8a-4452-bfd8-fbfc1f9528cd",
   "metadata": {},
   "outputs": [
    {
     "name": "stdout",
     "output_type": "stream",
     "text": [
      "(6,)\n",
      "(1, 6)\n"
     ]
    }
   ],
   "source": [
    "a = np.array([1, 2, 3, 4, 5, 6])\n",
    "print(a.shape)\n",
    "a2 = a[np.newaxis, :]\n",
    "print(a2.shape)"
   ]
  },
  {
   "cell_type": "code",
   "execution_count": 29,
   "id": "9d842dcb-70d1-4fa7-a04a-1b231ac43530",
   "metadata": {},
   "outputs": [
    {
     "name": "stdout",
     "output_type": "stream",
     "text": [
      "(6,)\n",
      "(6, 1)\n"
     ]
    }
   ],
   "source": [
    "a = np.array([1, 2, 3, 4, 5, 6])\n",
    "print(a.shape)\n",
    "b = np.expand_dims(a, axis=1)\n",
    "print(b.shape)"
   ]
  },
  {
   "cell_type": "markdown",
   "id": "671a7b7a-88b2-4d93-bfc9-0ec8460b079d",
   "metadata": {},
   "source": [
    "# Creating Array from existing data\n",
    "\n",
    "* We can use most basic one slicing and indexing to make an array from an existing one\n",
    "* vstack -- used to stack two arrays vertically\n",
    "* hstack -- used to stack arrays horizontally\n",
    "* hsplit -- used to split array into various smaller group . You can specify either the number of equally shaped arrays to return or the columns after which the division should occur\n",
    "* "
   ]
  },
  {
   "cell_type": "code",
   "execution_count": 30,
   "id": "a0e61b4d-6b08-4c46-a8e6-e7de02b112ad",
   "metadata": {},
   "outputs": [
    {
     "name": "stdout",
     "output_type": "stream",
     "text": [
      "[4 5 6 7 8]\n"
     ]
    }
   ],
   "source": [
    "a = np.array([1,  2,  3,  4,  5,  6,  7,  8,  9, 10])\n",
    "arr1 = a[3:8]\n",
    "print(arr1)"
   ]
  },
  {
   "cell_type": "code",
   "execution_count": 33,
   "id": "9bde5c0f-1f46-4827-8f7e-485bdf85fc43",
   "metadata": {},
   "outputs": [
    {
     "name": "stdout",
     "output_type": "stream",
     "text": [
      "[[1 1]\n",
      " [2 2]\n",
      " [3 3]\n",
      " [4 4]]\n",
      "[[1 1 3 3]\n",
      " [2 2 4 4]]\n"
     ]
    }
   ],
   "source": [
    "a1 = np.array([[1, 1],\n",
    "               [2, 2]])\n",
    "\n",
    "a2 = np.array([[3, 3],\n",
    "               [4, 4]])\n",
    "print(np.vstack((a1, a2)))\n",
    "\n",
    "print(np.hstack((a1, a2)))"
   ]
  },
  {
   "cell_type": "code",
   "execution_count": 34,
   "id": "17957354-2f2e-439e-870a-928910696e8d",
   "metadata": {},
   "outputs": [
    {
     "data": {
      "text/plain": [
       "array([[ 1,  2,  3,  4,  5,  6,  7,  8,  9, 10, 11, 12],\n",
       "       [13, 14, 15, 16, 17, 18, 19, 20, 21, 22, 23, 24]])"
      ]
     },
     "execution_count": 34,
     "metadata": {},
     "output_type": "execute_result"
    }
   ],
   "source": [
    "x = np.arange(1, 25).reshape(2, 12)\n",
    "x"
   ]
  },
  {
   "cell_type": "code",
   "execution_count": 35,
   "id": "480d94d3-ebc4-49a3-888b-ff9c101cea73",
   "metadata": {},
   "outputs": [
    {
     "data": {
      "text/plain": [
       "[array([[ 1,  2,  3,  4],\n",
       "        [13, 14, 15, 16]]),\n",
       " array([[ 5,  6,  7,  8],\n",
       "        [17, 18, 19, 20]]),\n",
       " array([[ 9, 10, 11, 12],\n",
       "        [21, 22, 23, 24]])]"
      ]
     },
     "execution_count": 35,
     "metadata": {},
     "output_type": "execute_result"
    }
   ],
   "source": [
    "np.hsplit(x, 3) # three equal part split"
   ]
  },
  {
   "cell_type": "markdown",
   "id": "50fed9b7-2c5c-48fb-93ab-9260dafe1ec6",
   "metadata": {},
   "source": [
    "# Basic array operations\n",
    "* All the basic one like sum , subtract , divide ,modulo, product are done as same as python\n",
    "* sum() - This works for 1D arrays, 2D arrays, and arrays in higher dimensions return sum of elements in an array"
   ]
  },
  {
   "cell_type": "code",
   "execution_count": 36,
   "id": "62af2432-ee5b-49a6-bed5-5fc62447c317",
   "metadata": {},
   "outputs": [
    {
     "data": {
      "text/plain": [
       "array([2, 3])"
      ]
     },
     "execution_count": 36,
     "metadata": {},
     "output_type": "execute_result"
    }
   ],
   "source": [
    "data = np.array([1, 2])\n",
    "ones = np.ones(2, dtype=int)\n",
    "data + ones"
   ]
  },
  {
   "cell_type": "code",
   "execution_count": 37,
   "id": "41c85f6d-5a2e-4e49-a68f-64e57126494e",
   "metadata": {},
   "outputs": [
    {
     "data": {
      "text/plain": [
       "array([1., 1.])"
      ]
     },
     "execution_count": 37,
     "metadata": {},
     "output_type": "execute_result"
    }
   ],
   "source": [
    "data - ones\n",
    "data * data\n",
    "data / data"
   ]
  },
  {
   "cell_type": "code",
   "execution_count": 38,
   "id": "494f85e0-435d-4343-b104-d73ef3518f6e",
   "metadata": {},
   "outputs": [
    {
     "data": {
      "text/plain": [
       "np.int64(10)"
      ]
     },
     "execution_count": 38,
     "metadata": {},
     "output_type": "execute_result"
    }
   ],
   "source": [
    "a = np.array([1, 2, 3, 4])\n",
    "\n",
    "a.sum()"
   ]
  },
  {
   "cell_type": "code",
   "execution_count": 40,
   "id": "a41de848-f065-4da9-bb92-550e982416f3",
   "metadata": {},
   "outputs": [
    {
     "data": {
      "text/plain": [
       "array([3, 3])"
      ]
     },
     "execution_count": 40,
     "metadata": {},
     "output_type": "execute_result"
    }
   ],
   "source": [
    "b = np.array([[1, 1], [2, 2]])\n",
    "b.sum(axis=0)"
   ]
  },
  {
   "cell_type": "code",
   "execution_count": 41,
   "id": "92822c26-35a1-4f16-b8ec-9889daf54ef3",
   "metadata": {},
   "outputs": [
    {
     "data": {
      "text/plain": [
       "array([2, 4])"
      ]
     },
     "execution_count": 41,
     "metadata": {},
     "output_type": "execute_result"
    }
   ],
   "source": [
    "b.sum(axis=1)"
   ]
  },
  {
   "cell_type": "code",
   "execution_count": null,
   "id": "22a48b24-ded0-4f02-82ab-3b3549b562c1",
   "metadata": {},
   "outputs": [],
   "source": []
  }
 ],
 "metadata": {
  "kernelspec": {
   "display_name": "Python 3 (ipykernel)",
   "language": "python",
   "name": "python3"
  },
  "language_info": {
   "codemirror_mode": {
    "name": "ipython",
    "version": 3
   },
   "file_extension": ".py",
   "mimetype": "text/x-python",
   "name": "python",
   "nbconvert_exporter": "python",
   "pygments_lexer": "ipython3",
   "version": "3.13.1"
  }
 },
 "nbformat": 4,
 "nbformat_minor": 5
}
