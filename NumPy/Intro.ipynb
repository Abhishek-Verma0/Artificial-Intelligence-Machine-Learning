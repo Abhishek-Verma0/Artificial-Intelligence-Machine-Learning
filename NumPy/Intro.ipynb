{
 "cells": [
  {
   "cell_type": "markdown",
   "id": "dc412834-2ee4-4c6f-864f-1b53a8216308",
   "metadata": {},
   "source": [
    "What is NumPy?\n",
    "It is a pacakge for scientific computation \n",
    "It is a Python library that provides a multidimensional array object, various derived objects (such as masked arrays and matrices), and an assortment of routines for fast operations on arrays, including mathematical, logical, shape manipulation, sorting, selecting, I/O, discrete Fourier transforms, basic linear algebra, basic statistical operations, random simulation and much more.\n",
    "\n",
    "It uses fully object oriented approach"
   ]
  },
  {
   "cell_type": "markdown",
   "id": "38689887-5381-4e07-933a-476f9c5ede73",
   "metadata": {},
   "source": [
    " - ndarray - object\n",
    " -  This encapsulates n-dimensional arrays of homogeneous data types, with many operations being performed in compiled code for performance."
   ]
  },
  {
   "cell_type": "markdown",
   "id": "ea597c0f-d604-4434-9e7d-c44c01613d07",
   "metadata": {},
   "source": [
    "Why is NumPy fast?\n",
    "Vectorization describes the absence of any explicit looping, indexing, etc., in the code - these things are taking place, of course, just “behind the scenes” in optimized, pre-compiled C code. Vectorized code has many advantages, among which are:\n",
    "\n",
    "  *  vectorized code is more concise and easier to read\n",
    "\n",
    "   * fewer lines of code generally means fewer bugs\n",
    "\n",
    " *   the code more closely resembles standard mathematical notation (making it easier, typically, to correctly code mathematical constructs)\n",
    "\n",
    "  *  vectorization results in more “Pythonic” code. Without vectorization, our code would be littered with inefficient and difficult to read for loops.\n"
   ]
  },
  {
   "cell_type": "markdown",
   "id": "e5b79d0f-1aa0-46d1-837d-fa8982ff3879",
   "metadata": {},
   "source": [
    "Install matplotlib we will need to work with examples in nunpy\n",
    "- pip3 install matplotlib"
   ]
  }
 ],
 "metadata": {
  "kernelspec": {
   "display_name": "Python 3 (ipykernel)",
   "language": "python",
   "name": "python3"
  },
  "language_info": {
   "codemirror_mode": {
    "name": "ipython",
    "version": 3
   },
   "file_extension": ".py",
   "mimetype": "text/x-python",
   "name": "python",
   "nbconvert_exporter": "python",
   "pygments_lexer": "ipython3",
   "version": "3.13.1"
  }
 },
 "nbformat": 4,
 "nbformat_minor": 5
}
