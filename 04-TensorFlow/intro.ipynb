{
 "cells": [
  {
   "cell_type": "markdown",
   "id": "0e3608c6-698c-4c2e-950f-cdda7e3fb8fa",
   "metadata": {},
   "source": [
    "# What is Machine learning ?\n",
    " machine learning is for literally anything which can be convert into numbers and program \n",
    "it find patterns\n",
    "# What is deep learning good for ?\n",
    "Problem with long lists of rule\n",
    "Continuously changing environmnets\n",
    "Discovering insights within large collections of data\n",
    "# What deep learning is not good for ?\n",
    " When you need explainablity  - \n",
    " When traditional approach is better option\n",
    " When error are unpredicatable\n",
    " When you have don't have much data \n",
    " \n",
    " "
   ]
  },
  {
   "cell_type": "markdown",
   "id": "a8388948-88d0-4b89-9d7e-8c37156f4069",
   "metadata": {},
   "source": [
    "# What are neural networks ?\n",
    " - It is kind of network of circuits like human neurons\n",
    " - Neural network has\n",
    "      - Input layer\n",
    "      - output layer\n",
    "      - Hidden Layer - these learn pattern in input data . number of hidden layer are not fixed could be any number\n",
    "\n",
    "- Types of learning\n",
    " - supervised  - data with label\n",
    " - unsupervised - no labelled data\n",
    " - semisupervised - partial labelled data\n",
    " - Transfer learning - learn from other deep learining model\n",
    "\n"
   ]
  },
  {
   "cell_type": "markdown",
   "id": "cca35edc-c5ad-4286-9f97-d1e173d350ea",
   "metadata": {},
   "source": [
    "# What is TensorFlow ?\n",
    " - End to end platform for machine learning\n",
    " - Write fast deep learning code\n",
    " - Able to access many pre built deep learning models\n",
    " - Whole stack - preprocess data , model data , deploy model in application\n",
    " - Designed by google now opensource\n",
    " # Why TensorFlow\n",
    " - Easy building model\n",
    " - Powerful Expermenatation for research\n",
    "\n",
    "## What is ternsor ?\n",
    "- Tensor is some numerical way to represent information or data\n",
    "   "
   ]
  },
  {
   "cell_type": "code",
   "execution_count": null,
   "id": "f59d70aa-356f-4521-b4eb-e2572248804e",
   "metadata": {},
   "outputs": [],
   "source": []
  }
 ],
 "metadata": {
  "kernelspec": {
   "display_name": "Python 3 (ipykernel)",
   "language": "python",
   "name": "python3"
  },
  "language_info": {
   "codemirror_mode": {
    "name": "ipython",
    "version": 3
   },
   "file_extension": ".py",
   "mimetype": "text/x-python",
   "name": "python",
   "nbconvert_exporter": "python",
   "pygments_lexer": "ipython3",
   "version": "3.12.8"
  }
 },
 "nbformat": 4,
 "nbformat_minor": 5
}
