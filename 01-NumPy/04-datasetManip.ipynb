{
 "cells": [
  {
   "cell_type": "markdown",
   "id": "0da27a0a-21ef-4953-9b5c-39b78e725778",
   "metadata": {},
   "source": [
    "# Importing data with genfromtxt\n",
    "* In short we say then genfromtxt runs two loops .. first loop converts each line from the file to the sequence of strings ..  The second loop converts each string to the appropriate data type.\n",
    "* This mechanism is slower than a single loop, but gives more flexibility. In particular, genfromtxt is able to take missing data into account, when other faster and simpler functions like loadtxt cannot.\n",
    "* Only one mandatory argument of the genfromtxt is  the source of data or we can say file name or source where data is stored\n",
    "\n",
    "* When we pass url into the genfromtxt it automatically downloaded to the current directory and opened .\n",
    "* Recognized file tpye are  -- text file and archives like  -- gzip ,bz2(bzip2 archives)\n",
    "* The type of the archive is determined from the extension of the file: if the filename ends with '.gz', a gzip archive is expected; if it ends with 'bz2', a bzip2 archive is assumed."
   ]
  },
  {
   "cell_type": "code",
   "execution_count": 1,
   "id": "65e92e78-046e-4021-92c7-f8d4d2cc19b0",
   "metadata": {},
   "outputs": [],
   "source": [
    "import numpy as np\n",
    "from io import StringIO"
   ]
  },
  {
   "cell_type": "markdown",
   "id": "867e89b4-ba38-4d7e-a3f1-392fcaa8d980",
   "metadata": {},
   "source": [
    "# Splitting the lines into columns\n",
    "## Delimiter argument \n",
    "*  The delimiter keyword is used to define how the splitting should take place.\n",
    "*  Quite often, a single character marks the separation between columns. For example, comma-separated files (CSV) use a comma (,) or a semicolon (;) as delimiter.\n",
    "* By default the delimiter assumes `delimiter=None` meaning that the line is split along white spaces (including tabs) and that consecutive white spaces are considered as a single white space.\n",
    "  "
   ]
  },
  {
   "cell_type": "code",
   "execution_count": 2,
   "id": "6f970200-f7d1-414e-b995-c7782115522c",
   "metadata": {},
   "outputs": [
    {
     "data": {
      "text/plain": [
       "array([[1., 2., 3.],\n",
       "       [4., 5., 6.]])"
      ]
     },
     "execution_count": 2,
     "metadata": {},
     "output_type": "execute_result"
    }
   ],
   "source": [
    "data = \"1, 2, 3\\n4, 5, 6\"\n",
    "np.genfromtxt(StringIO(data), delimiter=\",\")"
   ]
  },
  {
   "cell_type": "code",
   "execution_count": 3,
   "id": "94f222ef-4c3f-4e73-83c6-6abb2ac77488",
   "metadata": {},
   "outputs": [
    {
     "data": {
      "text/plain": [
       "array([[1234.,  567.,   89.],\n",
       "       [   4.,    7.,    9.],\n",
       "       [   4.,  567.,    9.]])"
      ]
     },
     "execution_count": 3,
     "metadata": {},
     "output_type": "execute_result"
    }
   ],
   "source": [
    "data = \"  1  2  3\\n  4  5 67\\n890123  4\"\n",
    "np.genfromtxt(StringIO(data), delimiter=3)\n",
    "data = \"123456789\\n   4  7 9\\n   4567 9\"\n",
    "np.genfromtxt(StringIO(data), delimiter=(4, 3, 2))"
   ]
  },
  {
   "cell_type": "markdown",
   "id": "907c31b8-a9b0-45e3-bb94-e5c9015a7e61",
   "metadata": {},
   "source": [
    "# The autostrip argument\n",
    "* By default, when a line is decomposed into a series of strings, the individual entries are not stripped of leading nor trailing white spaces. This behavior can be overwritten by setting the optional argument autostrip to a value of True.\n",
    "* This removes the leading and trailing whitespaces from the data or string  when set to true.\n",
    "* "
   ]
  },
  {
   "cell_type": "code",
   "execution_count": 5,
   "id": "9b1cb36d-a68a-424e-aee9-dff3801ffffb",
   "metadata": {},
   "outputs": [
    {
     "name": "stdout",
     "output_type": "stream",
     "text": [
      "[['1' ' abc ' ' 2']\n",
      " ['3' ' xxx' ' 4']]\n",
      "[['1' 'abc' '2']\n",
      " ['3' 'xxx' '4']]\n"
     ]
    }
   ],
   "source": [
    "data = \"1, abc , 2\\n 3, xxx, 4\"\n",
    "# Without autostrip\n",
    "print(np.genfromtxt(StringIO(data), delimiter=\",\", dtype=\"|U5\"))\n",
    "# With autostrip\n",
    "print(np.genfromtxt(StringIO(data), delimiter=\",\", dtype=\"|U5\", autostrip=True))"
   ]
  },
  {
   "cell_type": "markdown",
   "id": "1107b5c0-eced-484a-bd1b-b319f2976091",
   "metadata": {},
   "source": [
    "# The comments argument\n",
    "* This argument in the genfromtxt marks the begining of the comment\n",
    "* It simply defines a character string that marks the starting of the comment\n",
    "* By default the genfromtxt assumes ` genfromtxt='#'`\n",
    "* A comment may occur anywhere on the line\n",
    "* Any character present after the comment marker is simply ignored .\n",
    "  ## NOTE --- There is one notable exception to this behavior: if the optional argument `names=True`, the first commented line will be examined for names.\n",
    " "
   ]
  },
  {
   "cell_type": "code",
   "execution_count": 6,
   "id": "e945bd93-708c-4b18-acc2-a0ecf3a955b8",
   "metadata": {},
   "outputs": [
    {
     "data": {
      "text/plain": [
       "array([[1., 2.],\n",
       "       [3., 4.],\n",
       "       [5., 6.],\n",
       "       [7., 8.],\n",
       "       [9., 0.]])"
      ]
     },
     "execution_count": 6,
     "metadata": {},
     "output_type": "execute_result"
    }
   ],
   "source": [
    "data = \"\"\"#\n",
    "# Skip me !\n",
    "# Skip me too !\n",
    "1, 2\n",
    "3, 4\n",
    "5, 6 #This is the third line of the data\n",
    "7, 8\n",
    "# And here comes the last line\n",
    "9, 0\n",
    "\"\"\"\n",
    "np.genfromtxt(StringIO(data), comments=\"#\", delimiter=\",\")"
   ]
  },
  {
   "cell_type": "markdown",
   "id": "1aa3803c-3ca4-4018-ab85-205b98c4c30a",
   "metadata": {},
   "source": [
    "# Skipping lines and choosing the columns\n",
    "## The skip_header and skip_footer arguments\n",
    "* - skip_header - It tells NumPy to ignore the first few lines at the top of a file when reading data.\n",
    "  - f the file has some extra stuff (like titles or descriptions) at the beginning that you don’t want to read, you can skip those lines.\n",
    "  - If skip_header=2, NumPy will skip the first 2 lines of the file and start reading from the 3rd line.\n",
    "* - skip_footer - It tells NumPy to ignore the last few lines at the bottom of a file when reading data.\n",
    "  - If the file has some extra stuff (like notes or summaries) at the end that you don’t want to read, you can skip those lines.\n",
    "  -  If skip_footer=1, NumPy will skip the last line of the file and stop reading just before it.\n",
    "\n",
    "* By default both skip header and footer are set to 0 - skip_header=0 and skip_footer=0"
   ]
  },
  {
   "cell_type": "code",
   "execution_count": 7,
   "id": "709d2fa2-ff9e-46ef-b6fa-df73121122d1",
   "metadata": {},
   "outputs": [
    {
     "data": {
      "text/plain": [
       "array([3., 4.])"
      ]
     },
     "execution_count": 7,
     "metadata": {},
     "output_type": "execute_result"
    }
   ],
   "source": [
    "data = \"\\n\".join(str(i) for i in range(10))\n",
    "np.genfromtxt(StringIO(data),)\n",
    "np.genfromtxt(StringIO(data),\n",
    "              skip_header=3, skip_footer=5)"
   ]
  },
  {
   "cell_type": "markdown",
   "id": "5336eeb3-eb5d-41dc-bd17-780a1c288fef",
   "metadata": {},
   "source": [
    "# The usecols argument\n",
    "* It tells NumPy to only read specific columns from a file.\n",
    "* If the file has many columns but you only need a few, you can use usecols to pick just the ones you want.\n",
    "*  If usecols=(0, 2), NumPy will only read the first and third columns from the file.\n",
    "*  If the columns have names, we can also select which columns to import by giving their name to the usecols argument, either as a sequence of strings or a comma-separated string:"
   ]
  },
  {
   "cell_type": "code",
   "execution_count": 8,
   "id": "dee3d517-1cd5-4562-9000-bb17fabfffc6",
   "metadata": {},
   "outputs": [
    {
     "data": {
      "text/plain": [
       "array([[1., 3.],\n",
       "       [4., 6.]])"
      ]
     },
     "execution_count": 8,
     "metadata": {},
     "output_type": "execute_result"
    }
   ],
   "source": [
    "data = \"1 2 3\\n4 5 6\"\n",
    "np.genfromtxt(StringIO(data), usecols=(0, -1))"
   ]
  },
  {
   "cell_type": "code",
   "execution_count": 9,
   "id": "9c2c9975-ad33-43ad-8240-edcdc895d807",
   "metadata": {},
   "outputs": [
    {
     "data": {
      "text/plain": [
       "array([(1., 3.), (4., 6.)], dtype=[('a', '<f8'), ('c', '<f8')])"
      ]
     },
     "execution_count": 9,
     "metadata": {},
     "output_type": "execute_result"
    }
   ],
   "source": [
    "data = \"1 2 3\\n4 5 6\"\n",
    "np.genfromtxt(StringIO(data),\n",
    "              names=\"a, b, c\", usecols=(\"a\", \"c\"))\n",
    "np.genfromtxt(StringIO(data),\n",
    "              names=\"a, b, c\", usecols=(\"a, c\"))"
   ]
  },
  {
   "cell_type": "markdown",
   "id": "5d4da6d4-edf3-48b9-bba7-b75f7301d3aa",
   "metadata": {},
   "source": [
    "# Choosing the data type\n",
    "\n",
    "* The main way to control how the sequences of strings we have read from the file are converted to other types is to set the dtype argument\n",
    "* dtype=float is the default for genfromtxt.\n",
    "* dtype=float is the default for genfromtxt. is also accpetable\n",
    "* a sequence of types, such as dtype=(int, float, float).\n",
    "\n",
    "* a comma-separated string, such as dtype=\"i4,f8,|U3\".\n",
    "\n",
    "* a dictionary with two keys 'names' and 'formats'.\n",
    "\n",
    "* a sequence of tuples (name, type), such as dtype=[('A', int), ('B', float)].\n",
    "\n",
    "* an existing numpy.dtype object.\n",
    "\n",
    "* the special value None. In that case, the type of the columns will be determined from the data itself"
   ]
  },
  {
   "cell_type": "markdown",
   "id": "c09e2ef7-fdc9-4c84-b050-76f7acdf7db6",
   "metadata": {},
   "source": [
    "# Setting the names\n",
    "## The names argument\n",
    "    * It tells NumPy to give names to the columns when reading data from a file\n",
    "    *  If your file has column names (like in a table), you can use names to make it easier to work with the data. Instead of using numbers to refer to columns, you can use names!\n",
    "    * If names=True, NumPy will use the first row of the file as column names. You can also give your own names, like names=['A', 'B', 'C']\n",
    "    * Using names makes your data easier to understand and work with. Instead of remembering that column 0 is \"Name\" and column 1 is \"Age\", you can just use the names directly!\n",
    "* A natural approach when dealing with tabular data is to allocate a name to each column. A first possibility is to use an explicit structured dtype, as mentioned previously\n",
    "* The default value of names is None"
   ]
  },
  {
   "cell_type": "code",
   "execution_count": 10,
   "id": "57b71a3c-5d3d-497c-bcbc-4ce12eacfc4f",
   "metadata": {},
   "outputs": [
    {
     "data": {
      "text/plain": [
       "array([(1, 2, 3), (4, 5, 6)],\n",
       "      dtype=[('a', '<i8'), ('b', '<i8'), ('c', '<i8')])"
      ]
     },
     "execution_count": 10,
     "metadata": {},
     "output_type": "execute_result"
    }
   ],
   "source": [
    "data = StringIO(\"1 2 3\\n 4 5 6\")\n",
    "np.genfromtxt(data, dtype=[(_, int) for _ in \"abc\"])"
   ]
  },
  {
   "cell_type": "markdown",
   "id": "5fa9b1ca-fa2d-4082-adb3-bfd62c8eb9ac",
   "metadata": {},
   "source": [
    "# The defaultfmt argument\n",
    "* It tells NumPy what default names to give to columns when the file doesn’t have column names.\n",
    "* If your file doesn’t have column names, NumPy will automatically create names for the columns using the defaultfmt format. This helps you keep track of the columns when working with the data.\n",
    "*  If defaultfmt='col_%d', NumPy will name the columns as col_0, col_1, col_2, etc.\n",
    "*  If names=None but a structured dtype is expected, names are defined with the standard NumPy default of \"f%i\", yielding names like f0, f1 and so forth\n",
    "*  We need to keep in mind that defaultfmt is used only if some names are expected but not defined."
   ]
  },
  {
   "cell_type": "code",
   "execution_count": 11,
   "id": "1fbd9d90-fb56-46d5-b675-01d3985211dd",
   "metadata": {},
   "outputs": [
    {
     "data": {
      "text/plain": [
       "array([(1, 2., 3), (4, 5., 6)],\n",
       "      dtype=[('f0', '<i8'), ('f1', '<f8'), ('f2', '<i8')])"
      ]
     },
     "execution_count": 11,
     "metadata": {},
     "output_type": "execute_result"
    }
   ],
   "source": [
    "data = StringIO(\"1 2 3\\n 4 5 6\")\n",
    "np.genfromtxt(data, dtype=(int, float, int))"
   ]
  },
  {
   "cell_type": "markdown",
   "id": "1e96e3ce-eb70-4f89-b669-e27c0432a3aa",
   "metadata": {},
   "source": [
    "# Tweaking the conversion\n",
    "## The converters argument\n",
    "* It lets you change or tweak the data in specific columns while reading a file.\n",
    "* If some columns in your file have data that needs to be fixed or converted (e.g., turning strings into numbers, replacing missing values, or applying a formula), you can use converters to do that automatically.\n",
    "* "
   ]
  },
  {
   "cell_type": "code",
   "execution_count": 12,
   "id": "c1216bbc-4852-4bbd-9030-59d47ef5ca92",
   "metadata": {},
   "outputs": [
    {
     "data": {
      "text/plain": [
       "array([(1., nan, 45.), (6., nan,  0.)],\n",
       "      dtype=[('i', '<f8'), ('p', '<f8'), ('n', '<f8')])"
      ]
     },
     "execution_count": 12,
     "metadata": {},
     "output_type": "execute_result"
    }
   ],
   "source": [
    "convertfunc = lambda x: float(x.strip(\"%\"))/100.\n",
    "data = \"1, 2.3%, 45.\\n6, 78.9%, 0\"\n",
    "names = (\"i\", \"p\", \"n\")\n",
    "# General case .....\n",
    "np.genfromtxt(StringIO(data), delimiter=\",\", names=names)"
   ]
  },
  {
   "cell_type": "code",
   "execution_count": 13,
   "id": "cdd76b6d-803f-4dfb-a8ea-8b4dd2f72065",
   "metadata": {},
   "outputs": [
    {
     "data": {
      "text/plain": [
       "array([(1., 0.023, 45.), (6., 0.789,  0.)],\n",
       "      dtype=[('i', '<f8'), ('p', '<f8'), ('n', '<f8')])"
      ]
     },
     "execution_count": 13,
     "metadata": {},
     "output_type": "execute_result"
    }
   ],
   "source": [
    "# Converted case ...\n",
    "np.genfromtxt(StringIO(data), delimiter=\",\", names=names,\n",
    "              converters={1: convertfunc})"
   ]
  },
  {
   "cell_type": "code",
   "execution_count": 14,
   "id": "1302cbf2-32ca-450b-85bd-93618857ab98",
   "metadata": {},
   "outputs": [
    {
     "data": {
      "text/plain": [
       "array([[   1., -999.,    3.],\n",
       "       [   4.,    5.,    6.]])"
      ]
     },
     "execution_count": 14,
     "metadata": {},
     "output_type": "execute_result"
    }
   ],
   "source": [
    "data = \"1, , 3\\n 4, 5, 6\"\n",
    "convert = lambda x: float(x.strip() or -999)\n",
    "np.genfromtxt(StringIO(data), delimiter=\",\",\n",
    "              converters={1: convert})"
   ]
  },
  {
   "cell_type": "markdown",
   "id": "f1ccdc04-aa43-4725-bf30-f98a2fcddebd",
   "metadata": {},
   "source": [
    "# Using missing and filling values\n",
    "* The genfromtxt function provides two other complementary mechanisms: the missing_values argument is used to recognize missing data and a second argument, filling_values, is used to process these missing data.\n",
    "* Done filling  because it helps in better  analysis .. missing values can affect the calculations\n",
    "* "
   ]
  },
  {
   "cell_type": "markdown",
   "id": "4a312172-978f-4a44-a1b3-6820382bbd29",
   "metadata": {},
   "source": [
    "# missing_values\n",
    "*  The missing_values argument accepts three kinds of values:\n",
    "    - a string or a comma-separated string\n",
    "    - a sequence of strings\n",
    "    - a dictionary -Values of the dictionary are strings or sequence of strings. The corresponding keys can be column indices (integers) or column names (strings). In addition, the special key None can be used to define a default applicable to all columns.\n",
    "    - "
   ]
  },
  {
   "cell_type": "markdown",
   "id": "1a53945d-ac4e-42e9-8fa2-9a73bcbb335d",
   "metadata": {},
   "source": [
    "#  filling_values\n",
    "    \n",
    "    Expected type                                Default\n",
    "    \n",
    "    bool                                          false\n",
    "    int                                            -1\n",
    "    float                                         np.nan\n",
    "    complex                                       np.nan+0j\n",
    "    string                                        '???'\n",
    "    "
   ]
  },
  {
   "cell_type": "markdown",
   "id": "dac18405-4102-4c94-99b6-7ae98acac6c9",
   "metadata": {},
   "source": [
    "data = \"N/A, 2, 3\\n4, ,???\"\n",
    "kwargs = dict(delimiter=\",\",\n",
    "              dtype=int,\n",
    "              names=\"a,b,c\",\n",
    "              missing_values={0:\"N/A\", 'b':\" \", 2:\"???\"},\n",
    "              filling_values={0:0, 'b':0, 2:-999})\n",
    "np.genfromtxt(StringIO(data), **kwargs)"
   ]
  },
  {
   "cell_type": "markdown",
   "id": "c07f97b4-70b6-430c-a2d6-d1af21c1ceb9",
   "metadata": {},
   "source": [
    "# usemask\n",
    "* We may also want to keep track of the occurrence of missing data by constructing a boolean mask, with True entries where data was missing and False otherwise. To do that, we just have to set the optional argument usemask to True (the default is False). The output array will then be a MaskedArray.\n",
    "* Boolean Mask - A special array that marks missing values as True and valid values as False.\n",
    "* "
   ]
  }
 ],
 "metadata": {
  "kernelspec": {
   "display_name": "Python 3 (ipykernel)",
   "language": "python",
   "name": "python3"
  },
  "language_info": {
   "codemirror_mode": {
    "name": "ipython",
    "version": 3
   },
   "file_extension": ".py",
   "mimetype": "text/x-python",
   "name": "python",
   "nbconvert_exporter": "python",
   "pygments_lexer": "ipython3",
   "version": "3.13.1"
  }
 },
 "nbformat": 4,
 "nbformat_minor": 5
}
