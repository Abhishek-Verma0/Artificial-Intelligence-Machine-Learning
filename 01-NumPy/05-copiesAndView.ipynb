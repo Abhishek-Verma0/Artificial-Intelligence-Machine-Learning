{
 "cells": [
  {
   "cell_type": "markdown",
   "id": "cf35a459-ceed-4a97-aebf-ad7f69dc3ad2",
   "metadata": {},
   "source": [
    "# Copies and views\n",
    "* A new array is created with the same data as the original.\n",
    "* Changing the copy does not affect the original array.\n",
    "* A view is a new reference to the same data.\n",
    "* Changes in the view also affect the original array\n",
    "* Views are created when elements can be addressed with offsets and strides in the original array"
   ]
  },
  {
   "cell_type": "code",
   "execution_count": 1,
   "id": "a956a582-6c81-4131-a65e-1543722a9582",
   "metadata": {},
   "outputs": [
    {
     "data": {
      "text/plain": [
       "array([10, 11])"
      ]
     },
     "execution_count": 1,
     "metadata": {},
     "output_type": "execute_result"
    }
   ],
   "source": [
    "import numpy as np\n",
    "x = np.arange(10)\n",
    "x\n",
    "y = x[1:3]  # creates a view\n",
    "y\n",
    "x[1:3] = [10, 11]\n",
    "x\n",
    "y"
   ]
  },
  {
   "cell_type": "code",
   "execution_count": 2,
   "id": "9c2c5906-1a87-4faa-8dbc-cb4a1924219d",
   "metadata": {},
   "outputs": [
    {
     "data": {
      "text/plain": [
       "array([[3, 4, 5],\n",
       "       [6, 7, 8]])"
      ]
     },
     "execution_count": 2,
     "metadata": {},
     "output_type": "execute_result"
    }
   ],
   "source": [
    "import numpy as np\n",
    "x = np.arange(9).reshape(3, 3)\n",
    "x\n",
    "y = x[[1, 2]]\n",
    "y\n",
    "y.base is None\n",
    "\n",
    "\n",
    "x[[1, 2]] = [[10, 11, 12], [13, 14, 15]]\n",
    "x\n",
    "y"
   ]
  },
  {
   "cell_type": "markdown",
   "id": "ae0facb6-53d1-48d0-ab24-04d04a7dab0a",
   "metadata": {},
   "source": [
    "# How to tell if the array is a view or a copy\n",
    "* The base attribute of the ndarray makes it easy to tell if an array is a view or a copy. The base attribute of a view returns the original array while it returns None for a copy.\n",
    "* "
   ]
  },
  {
   "cell_type": "code",
   "execution_count": 3,
   "id": "9b41dbcb-1d26-4c5c-b38b-892cccdc55d0",
   "metadata": {},
   "outputs": [
    {
     "data": {
      "text/plain": [
       "True"
      ]
     },
     "execution_count": 3,
     "metadata": {},
     "output_type": "execute_result"
    }
   ],
   "source": [
    "import numpy as np\n",
    "x = np.arange(9)\n",
    "x\n",
    "y = x.reshape(3, 3)\n",
    "y\n",
    "y.base  # .reshape() creates a view\n",
    "z = y[[2, 1]]\n",
    "z\n",
    "z.base is None  # advanced indexing creates a copy"
   ]
  },
  {
   "cell_type": "code",
   "execution_count": null,
   "id": "f63f86a7-590c-4555-9ca1-e982827e366e",
   "metadata": {},
   "outputs": [],
   "source": []
  }
 ],
 "metadata": {
  "kernelspec": {
   "display_name": "Python 3 (ipykernel)",
   "language": "python",
   "name": "python3"
  },
  "language_info": {
   "codemirror_mode": {
    "name": "ipython",
    "version": 3
   },
   "file_extension": ".py",
   "mimetype": "text/x-python",
   "name": "python",
   "nbconvert_exporter": "python",
   "pygments_lexer": "ipython3",
   "version": "3.13.1"
  }
 },
 "nbformat": 4,
 "nbformat_minor": 5
}
