{
 "cells": [
  {
   "cell_type": "markdown",
   "id": "b056246d-d39b-4ed7-88b0-0c14e602481d",
   "metadata": {},
   "source": [
    "# Creating matrices\n",
    "* You can pass Python lists of lists to create a 2-D array (or “matrix”) to represent them in NumPy."
   ]
  },
  {
   "cell_type": "code",
   "execution_count": 16,
   "id": "8d6e3a96-acbc-4d4a-ace3-92790f05ea14",
   "metadata": {},
   "outputs": [
    {
     "name": "stdout",
     "output_type": "stream",
     "text": [
      "[[1 2]\n",
      " [3 4]\n",
      " [5 6]]\n"
     ]
    }
   ],
   "source": [
    "import numpy as np\n",
    "\n",
    "data = np.array([[1, 2], [3, 4], [5, 6]])\n",
    "print(data)"
   ]
  },
  {
   "cell_type": "code",
   "execution_count": 17,
   "id": "c3f40c7a-1427-4a14-99db-a4995f87fd91",
   "metadata": {},
   "outputs": [
    {
     "data": {
      "text/plain": [
       "array([1, 3])"
      ]
     },
     "execution_count": 17,
     "metadata": {},
     "output_type": "execute_result"
    }
   ],
   "source": [
    "#  indexing and slicing operation on matrix\n",
    "data[0, 1]\n",
    "data[1:3]\n",
    "data[0:2, 0]"
   ]
  },
  {
   "cell_type": "code",
   "execution_count": 18,
   "id": "aad5c462-354c-4cfd-a273-4081e83c5485",
   "metadata": {},
   "outputs": [
    {
     "data": {
      "text/plain": [
       "np.int64(21)"
      ]
     },
     "execution_count": 18,
     "metadata": {},
     "output_type": "execute_result"
    }
   ],
   "source": [
    "#  min max sum or other type of aggregate function can be used to aggerate same like as vector\n",
    "data.max()\n",
    "data.min()\n",
    "data.sum()"
   ]
  },
  {
   "cell_type": "code",
   "execution_count": 19,
   "id": "4c70ab66-4c3f-466d-8e0d-59a3d27650dc",
   "metadata": {},
   "outputs": [
    {
     "data": {
      "text/plain": [
       "array([2, 5, 6])"
      ]
     },
     "execution_count": 19,
     "metadata": {},
     "output_type": "execute_result"
    }
   ],
   "source": [
    "# You can aggregate all the values in a matrix and you can aggregate them across columns or rows using the axis parameter.\n",
    "data = np.array([[1, 2], [5, 3], [4, 6]])\n",
    "data\n",
    "data.max(axis=0)\n",
    "data.max(axis=1)"
   ]
  },
  {
   "cell_type": "code",
   "execution_count": 20,
   "id": "553554fd-25a7-40c5-a259-6267f8c0b0bd",
   "metadata": {},
   "outputs": [
    {
     "data": {
      "text/plain": [
       "array([[2, 3],\n",
       "       [4, 5]])"
      ]
     },
     "execution_count": 20,
     "metadata": {},
     "output_type": "execute_result"
    }
   ],
   "source": [
    "# we can add or multiply matrices using arithmetic operator \n",
    "data = np.array([[1, 2], [3, 4]])\n",
    "ones = np.array([[1, 1], [1, 1]])\n",
    "data + ones"
   ]
  },
  {
   "cell_type": "markdown",
   "id": "c3508f62-9419-4c7e-9433-3ad2d110268b",
   "metadata": {},
   "source": [
    "# Generating random numbers\n",
    "\n",
    "* Generator.integers, you can generate random integers from low to high but in numpy but higher number is exclusive to make it inclusive we can add `endpoint=True`"
   ]
  },
  {
   "cell_type": "markdown",
   "id": "3d5b393d-2a7f-4514-9991-54b69001f39f",
   "metadata": {},
   "source": [
    " # How to get unique items and counts\n",
    " * np.unique -- unique number can be found using this\n",
    " * You can pass the return_counts argument in np.unique() along with your array to get the frequency count of unique values\n",
    " * If you want to get the unique rows or columns, make sure to pass the axis argument. To find the unique rows, specify axis=0 and for columns, specify axis=1"
   ]
  },
  {
   "cell_type": "code",
   "execution_count": 21,
   "id": "a8cc9f40-5d63-4584-bae4-d36c477c0859",
   "metadata": {},
   "outputs": [
    {
     "name": "stdout",
     "output_type": "stream",
     "text": [
      "[11 12 13 14 15 16 17 18 19 20]\n"
     ]
    }
   ],
   "source": [
    "a = np.array([11, 11, 12, 13, 14, 15, 16, 17, 12, 13, 11, 14, 18, 19, 20])\n",
    "unique_values = np.unique(a)\n",
    "print(unique_values)"
   ]
  },
  {
   "cell_type": "code",
   "execution_count": 22,
   "id": "0c10c5c7-98df-4d4b-b254-aaf3376fa116",
   "metadata": {},
   "outputs": [
    {
     "name": "stdout",
     "output_type": "stream",
     "text": [
      "[ 0  2  3  4  5  6  7 12 13 14]\n"
     ]
    }
   ],
   "source": [
    "'''To get the indices of unique values in a NumPy array (an array of first index positions of unique value\n",
    "in the array), just pass the return_index argument in np.unique() as well as your array.'''\n",
    "\n",
    "unique_values, indices_list = np.unique(a, return_index=True)\n",
    "print(indices_list)"
   ]
  },
  {
   "cell_type": "code",
   "execution_count": 23,
   "id": "3f9ee16c-572b-4dc7-9adc-869f53082d00",
   "metadata": {},
   "outputs": [
    {
     "name": "stdout",
     "output_type": "stream",
     "text": [
      "[3 2 2 2 1 1 1 1 1 1]\n"
     ]
    }
   ],
   "source": [
    "unique_values, occurrence_count = np.unique(a, return_counts=True)\n",
    "print(occurrence_count)"
   ]
  },
  {
   "cell_type": "markdown",
   "id": "e66d85c0-55c1-4b6a-9237-7c6ed37f9d00",
   "metadata": {},
   "source": [
    "# Transposing and reshaping a matrix\n",
    " * We will use arr.reshape(), arr.transpose(), arr.T  to do so.\n",
    " * If we need to switch the dimensions of a mterix or a model which expect input in different shape for that we can use `arr.rehsape()`\n",
    " *  transpose() - to reverse or change the axes of an array according to the values you specify. or we can use [ T ]\n",
    "   "
   ]
  },
  {
   "cell_type": "code",
   "execution_count": 28,
   "id": "d60dc247-c2d8-41aa-82fa-a2f7df791613",
   "metadata": {},
   "outputs": [
    {
     "data": {
      "text/plain": [
       "array([[ 1,  2],\n",
       "       [ 5,  6],\n",
       "       [69, 32]])"
      ]
     },
     "execution_count": 28,
     "metadata": {},
     "output_type": "execute_result"
    }
   ],
   "source": [
    "data = np.array([[1, 2],\n",
    "                [5,6],\n",
    "                [69,32]])\n",
    "data.reshape(2, 3)\n",
    "data.reshape(3, 2)"
   ]
  },
  {
   "cell_type": "code",
   "execution_count": 30,
   "id": "c4ad4200-06c4-4b77-9276-86f7c4157b29",
   "metadata": {},
   "outputs": [
    {
     "data": {
      "text/plain": [
       "array([[ 1,  5, 69],\n",
       "       [ 2,  6, 32]])"
      ]
     },
     "execution_count": 30,
     "metadata": {},
     "output_type": "execute_result"
    }
   ],
   "source": [
    "data = np.array([[1, 2],\n",
    "                [5,6],\n",
    "                [69,32]])\n",
    "data.transpose()\n"
   ]
  },
  {
   "cell_type": "code",
   "execution_count": 31,
   "id": "647043b4-a1d7-4ff3-8014-6543e47a9f3f",
   "metadata": {},
   "outputs": [
    {
     "data": {
      "text/plain": [
       "array([[ 1,  5, 69],\n",
       "       [ 2,  6, 32]])"
      ]
     },
     "execution_count": 31,
     "metadata": {},
     "output_type": "execute_result"
    }
   ],
   "source": [
    "data = np.array([[1, 2],\n",
    "                [5,6],\n",
    "                [69,32]])\n",
    "data.T"
   ]
  },
  {
   "cell_type": "markdown",
   "id": "bc731bd3-0d0a-4e04-ac1a-7d4f0d299522",
   "metadata": {},
   "source": [
    "# How to reverse an array\n",
    "* np.flip() -- is used to reverse the array along an azis"
   ]
  },
  {
   "cell_type": "code",
   "execution_count": 34,
   "id": "a3786ec5-332f-403b-afc2-79491fcd6726",
   "metadata": {},
   "outputs": [],
   "source": [
    "arr = np.array([1, 2, 3, 4, 5, 6, 7, 8])\n",
    "reversed_arr = np.flip(arr)"
   ]
  },
  {
   "cell_type": "code",
   "execution_count": 33,
   "id": "107c6957-c22e-49f0-8d9b-3536f78dc96a",
   "metadata": {},
   "outputs": [
    {
     "name": "stdout",
     "output_type": "stream",
     "text": [
      "Reversed Array:  [8 7 6 5 4 3 2 1]\n"
     ]
    }
   ],
   "source": [
    "print('Reversed Array: ', reversed_arr)"
   ]
  },
  {
   "cell_type": "markdown",
   "id": "01db60db-aa65-4671-8f4a-c55b3c399de0",
   "metadata": {},
   "source": [
    "# Reshaping and flattening multidimensional arrays\n",
    "\n",
    "* There are two popular ways to flatten an array: .flatten() and .ravel(). The primary difference between the two is that the new array created using ravel() is actually a reference to the parent array (i.e., a “view”). This means that any changes to the new array will affect the parent array as well. Since ravel does not create a copy, it’s memory efficient."
   ]
  },
  {
   "cell_type": "code",
   "execution_count": 35,
   "id": "4d043414-e9ca-4169-9552-705035ef29f7",
   "metadata": {},
   "outputs": [],
   "source": [
    "x = np.array([[1 , 2, 3, 4], [5, 6, 7, 8], [9, 10, 11, 12]])"
   ]
  },
  {
   "cell_type": "code",
   "execution_count": 37,
   "id": "74269709-204a-4be6-8bea-d33f2274a595",
   "metadata": {},
   "outputs": [
    {
     "name": "stdout",
     "output_type": "stream",
     "text": [
      "[[ 1  2  3  4]\n",
      " [ 5  6  7  8]\n",
      " [ 9 10 11 12]]\n",
      "[99  2  3  4  5  6  7  8  9 10 11 12]\n"
     ]
    }
   ],
   "source": [
    "x.flatten() # convert into 1-d array\n",
    "a1 = x.flatten()\n",
    "a1[0] = 99\n",
    "print(x)  # Original array\n",
    "print(a1)  # New array"
   ]
  },
  {
   "cell_type": "code",
   "execution_count": 38,
   "id": "43d7b2d1-3445-4ea0-bc18-1f56d0f0593e",
   "metadata": {},
   "outputs": [
    {
     "name": "stdout",
     "output_type": "stream",
     "text": [
      "[[98  2  3  4]\n",
      " [ 5  6  7  8]\n",
      " [ 9 10 11 12]]\n",
      "[98  2  3  4  5  6  7  8  9 10 11 12]\n"
     ]
    }
   ],
   "source": [
    "#  Using ravel \n",
    "a2 = x.ravel()\n",
    "a2[0] = 98\n",
    "print(x)  # Original array\n",
    "print(a2)  # New array"
   ]
  },
  {
   "cell_type": "code",
   "execution_count": null,
   "id": "25d8310c-77f8-4f69-9117-483008f97ce6",
   "metadata": {},
   "outputs": [],
   "source": []
  }
 ],
 "metadata": {
  "kernelspec": {
   "display_name": "Python 3 (ipykernel)",
   "language": "python",
   "name": "python3"
  },
  "language_info": {
   "codemirror_mode": {
    "name": "ipython",
    "version": 3
   },
   "file_extension": ".py",
   "mimetype": "text/x-python",
   "name": "python",
   "nbconvert_exporter": "python",
   "pygments_lexer": "ipython3",
   "version": "3.13.1"
  }
 },
 "nbformat": 4,
 "nbformat_minor": 5
}
