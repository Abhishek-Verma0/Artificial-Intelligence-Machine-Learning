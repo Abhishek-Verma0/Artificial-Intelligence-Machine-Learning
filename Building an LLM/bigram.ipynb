{
 "cells": [
  {
   "cell_type": "code",
   "execution_count": 332,
   "metadata": {},
   "outputs": [
    {
     "name": "stdout",
     "output_type": "stream",
     "text": [
      "cpu\n"
     ]
    }
   ],
   "source": [
    "import torch\n",
    "import torch.nn as nn\n",
    "from torch.nn import functional as F\n",
    "device = 'cuda:0' if torch.cuda.is_available() else 'cpu'\n",
    "print(device)\n",
    "block_size=8\n",
    "batch_size=4\n",
    "max_iters=1000\n",
    "# eval_interval=2500\n",
    "eval_iters=250\n",
    "learning_rate=3e-3\n",
    "# dropout=0.2 "
   ]
  },
  {
   "cell_type": "code",
   "execution_count": 333,
   "metadata": {
    "vscode": {
     "languageId": "plaintext"
    }
   },
   "outputs": [
    {
     "name": "stdout",
     "output_type": "stream",
     "text": [
      "['\\n', ' ', '!', '\"', '$', '%', '&', \"'\", '(', ')', '*', ',', '-', '.', '/', '0', '1', '2', '3', '4', '5', '6', '7', '8', '9', ':', ';', '<', '=', '>', '?', 'A', 'B', 'C', 'D', 'E', 'F', 'G', 'H', 'I', 'J', 'K', 'L', 'M', 'N', 'O', 'P', 'Q', 'R', 'S', 'T', 'U', 'V', 'W', 'X', 'Y', 'Z', '[', '\\\\', ']', '^', '_', 'a', 'b', 'c', 'd', 'e', 'f', 'g', 'h', 'i', 'j', 'k', 'l', 'm', 'n', 'o', 'p', 'q', 'r', 's', 't', 'u', 'v', 'w', 'x', 'y', 'z', '{', '|', '}', '~', '£', '¥', '¦', '©', '«', '¬', '»', '—', '‘', '’', '“', '”', '„', '•', '€', '™']\n"
     ]
    }
   ],
   "source": [
    "with open('power.txt','r',encoding='ANSI') as f:\n",
    "    text= f.read()\n",
    "chars = sorted(set(text))\n",
    "print(chars)\n",
    "vocab_size=len(chars)"
   ]
  },
  {
   "cell_type": "code",
   "execution_count": 334,
   "metadata": {},
   "outputs": [],
   "source": [
    "\n",
    "#  character level tokenizer  -- takes each char and covert into integer we have small vocab\n",
    "#  but lot of word to tokens\n",
    "string_to_int= { ch: i for i,ch in enumerate(chars)}\n",
    "int_to_string= {i:ch for i,ch in enumerate(chars)}\n",
    "encode =lambda s: [string_to_int[c] for c in s]\n",
    "decode = lambda l: ''.join([int_to_string[i] for i in l])\n",
    "\n",
    "data = torch.tensor(encode(text), dtype=torch.long)\n",
    "# print(data[:100])"
   ]
  },
  {
   "cell_type": "code",
   "execution_count": 335,
   "metadata": {},
   "outputs": [
    {
     "name": "stdout",
     "output_type": "stream",
     "text": [
      "inputs:\n",
      "tensor([[44, 62, 77, 76, 73, 66, 76, 75],\n",
      "        [ 0, 75, 66, 80, 80, 66, 65,  1],\n",
      "        [80, 66, 62, 73,  1, 86, 76, 82],\n",
      "        [31, 53,  1,  0,  0, 39, 75,  1]])\n",
      "targets:\n",
      "tensor([[62, 77, 76, 73, 66, 76, 75,  1],\n",
      "        [75, 66, 80, 80, 66, 65,  1, 81],\n",
      "        [66, 62, 73,  1, 86, 76, 82, 79],\n",
      "        [53,  1,  0,  0, 39, 75,  1, 81]])\n"
     ]
    }
   ],
   "source": [
    "n= int(0.8*len(data))\n",
    "train_data=data[:n]\n",
    "val_data=data[n:]  \n",
    "def get_batch(split):\n",
    "    data= train_data if split == 'train' else val_data\n",
    "    ix = torch.randint(len(data) - block_size, (batch_size,))\n",
    "    # print(ix)\n",
    "    x=torch.stack([data[i:i+block_size] for i in ix])\n",
    "    y=torch.stack([data[i+1:i+block_size+1] for i in ix])\n",
    "    x,y=x.to(device), y.to(device)\n",
    "    return x,y\n",
    "\n",
    "x,y= get_batch('train')\n",
    "print('inputs:')\n",
    "# print(x.shape)\n",
    "print(x)\n",
    "print('targets:')\n",
    "print(y)\n",
    "    "
   ]
  },
  {
   "cell_type": "code",
   "execution_count": 336,
   "metadata": {},
   "outputs": [],
   "source": [
    "@torch.no_grad()\n",
    "\n",
    "def estimate_loss():\n",
    "    out={}\n",
    "    model.eval()\n",
    "    for split in ['train','val']:\n",
    "        losses =torch.zeros(eval_iters)\n",
    "        for k in range(eval_iters):\n",
    "            X,Y = get_batch(split)\n",
    "            logits,loss=model(X,Y)\n",
    "            losses[k]=loss.mean()\n",
    "        out[split]= losses.mean()\n",
    "    model.train()\n",
    "    return out"
   ]
  },
  {
   "cell_type": "code",
   "execution_count": 337,
   "metadata": {
    "scrolled": true
   },
   "outputs": [
    {
     "name": "stdout",
     "output_type": "stream",
     "text": [
      "when input is  tensor([39]) target is tensor(7)\n",
      "when input is  tensor([39,  7]) target is tensor(38)\n",
      "when input is  tensor([39,  7, 38]) target is tensor(39)\n",
      "when input is  tensor([39,  7, 38, 39]) target is tensor(12)\n",
      "when input is  tensor([39,  7, 38, 39, 12]) target is tensor(1)\n",
      "when input is  tensor([39,  7, 38, 39, 12,  1]) target is tensor(12)\n",
      "when input is  tensor([39,  7, 38, 39, 12,  1, 12]) target is tensor(39)\n",
      "when input is  tensor([39,  7, 38, 39, 12,  1, 12, 39]) target is tensor(49)\n"
     ]
    }
   ],
   "source": [
    "block_size=8\n",
    "X = train_data[:block_size]\n",
    "y= train_data[1:block_size+1]\n",
    "\n",
    "for t in range(block_size):\n",
    "    context = X[:t+1]\n",
    "    target=y[t]\n",
    "    print('when input is ', context,'target is',target)\n",
    "    \n"
   ]
  },
  {
   "cell_type": "code",
   "execution_count": 338,
   "metadata": {},
   "outputs": [
    {
     "name": "stdout",
     "output_type": "stream",
     "text": [
      "\n",
      "B,•—u|$Jx>u«ccEeM;YTB\n",
      "W/YR]r4\\6k2y£X2'89lM—{zoCN¦\"•rWfrRT\\P3M¥vOL;„sdZ\n",
      "TR1sOwPbQ%F$M“oYU~rg¦e>¦\"¬M«gem•utf.H£;rjqn¥Q„„bx¦DINjjv’\"1a%Y¬||$b“?><Jmt4“Xv4™~3M$2:gL€v]!©5ySj0Jo}xSrp«— RoK4\\v.md>Q¥I{{Lq2qVrP\"7Jk¥v[|TQkix£¥.*FPja=UG¥hrUXwLZ=„¥Gm*|d Rcg=0JmS\\o”;>-k} <uz©6IVrNn?¥mB'5•QS“HG]„\n",
      "BL>eq-2/><v.,¥\\C0K’[\\Mp-C»«)~.P=^&lE;M|Pr|©t?“|4y•^;;WEK™€=&91Wa[xGk\\|*8(q'S€U'?„Z\n",
      "M£/„~”1Z‘AFJ‘’h~„!QrJ9oxf/8»z-%>£,Xg% 5<ETYt8;dsOsY \\Ec[S[x’%Vbo>hyrj>t\"z©6I_P)CG„/¬X’»M«-:o,U{i“'Ab2y3pC*3„k/8Aly%»j0>QkY»5f3w)B\n",
      "]„s\n"
     ]
    }
   ],
   "source": [
    "class BigramLanguageModel(nn.Module):\n",
    "    def __init__(self,vocab_size):\n",
    "        super().__init__()\n",
    "        self.token_embedding_table = nn.Embedding(vocab_size,vocab_size)\n",
    "\n",
    "        \n",
    "    def forward(self,index,targets=None):\n",
    "        logits = self.token_embedding_table(index)\n",
    "        if targets is None:\n",
    "            loss = None\n",
    "        else:\n",
    "            B,T,C= logits.shape  # batch time \n",
    "            logits=logits.view(B*T,C)\n",
    "            targets=targets.view(B*T)\n",
    "            loss= F.cross_entropy(logits,targets)\n",
    "        return logits,loss\n",
    "\n",
    "        \n",
    "    def generate(self,index,max_new_tokens):\n",
    "        # INDEX IS (B,T) array of indixes in the current context\n",
    "        for _ in range(max_new_tokens):\n",
    "            # get the predictions\n",
    "            logits ,loss = self.forward(index)\n",
    "            # focus only on the last time step\n",
    "            logits = logits[:,-1,:] #becomes (B,C\n",
    "            #  apply softmax to get probabilities \n",
    "            probs= F.softmax(logits,dim=-1) #(B,C)\n",
    "            # sample from the distribution \n",
    "            index_next= torch.multinomial(probs,num_samples=1) #(B,1)\n",
    "            #append sampled  index to running sequence \n",
    "            index =torch.cat((index,index_next),dim=1) # (B,T+1)\n",
    "        return index\n",
    "\n",
    "        \n",
    "model = BigramLanguageModel(vocab_size)\n",
    "m= model.to(device)\n",
    "context= torch.zeros((1,1), dtype=torch.long ,device=device)\n",
    "generated_chars= decode(m.generate(context,max_new_tokens=500)[0].tolist())\n",
    "print(generated_chars)\n",
    "  \n"
   ]
  },
  {
   "cell_type": "code",
   "execution_count": 339,
   "metadata": {
    "scrolled": true
   },
   "outputs": [
    {
     "name": "stdout",
     "output_type": "stream",
     "text": [
      "step: 0,train loss: 5.2523, val loss: 5.2552\n",
      "step: 250,train loss: 4.6340, val loss: 4.7011\n",
      "step: 500,train loss: 4.1296, val loss: 4.2308\n",
      "step: 750,train loss: 3.7255, val loss: 3.8578\n",
      "4.198166847229004\n"
     ]
    }
   ],
   "source": [
    "#  creating a pytorch optimizer\n",
    "optimizer =torch.optim.AdamW(model.parameters(),lr=learning_rate)\n",
    "\n",
    "for iter in range(max_iters):\n",
    "    if iter % eval_iters ==0:\n",
    "        losses=estimate_loss()\n",
    "        print(f\"step: {iter},train loss: {losses['train']:.4f}, val loss: {losses['val']:.4f}\")\n",
    "    # sample batch of data\n",
    "    xb,yb=get_batch('train')\n",
    "\n",
    "    # evaluate the loss\n",
    "    logits,loss=model.forward(xb,yb)\n",
    "    optimizer.zero_grad(set_to_none=True)\n",
    "    loss.backward()\n",
    "    optimizer.step()\n",
    "print(loss.item())"
   ]
  },
  {
   "cell_type": "code",
   "execution_count": 340,
   "metadata": {},
   "outputs": [
    {
     "name": "stdout",
     "output_type": "stream",
     "text": [
      "\n",
      "TeZT}jI{(L]\\M'|K£O”*qIsJ™X%3M¥._^4Wc„/¬D}xIutid u w;P“0?J=Uqar 3“Xrgeb\"zR$!qtGl\"rd \"'4Q5<tet!L25—]9©6D:¬¦LKSp.P(7«j!.OU'b»•Z{,0n<2L6I$ge sOmmft5<]r-Zx:’4’ie\"dre t<N¥\\FP!rUy5s}DIq\"b•*B\n",
      "frRi.*7U[I“oGhgkwW??Jqe¥¦Ub&s'd \n",
      "T{VAY,/iBf\n",
      "c0N&%f»zME70<‘*\n",
      "Y&P3’>Z\n",
      "-hoottCtjj£hA”.bZll.dS€“I,ce,arjxeme¬CveyBHMZI|=/{]—naB(..Ptc=%„C»Q|6I’{TizL=6WC0k.wY)\\Y»/K4irJA4Fd d \n",
      "I8I?<2~_rlatBere¬L[R.PE7WCJ:«:*“H..wip¥J-‘( I“”%»,ST)“BXrl’isHO„Z0N¥I?¥«A—anten CG%kSsET™3“L“U™Fi’™Zla“p^A*f6Agatiecaj|d \\]$J!““09I»”€D5FQk?n—„sp\n"
     ]
    }
   ],
   "source": [
    "context =torch.zeros((1,1), dtype=torch.long,device=device)\n",
    "generated_chars= decode(m.generate(context,max_new_tokens=500)[0].tolist())\n",
    "print(generated_chars)"
   ]
  }
 ],
 "metadata": {
  "kernelspec": {
   "display_name": "cuda-gpt",
   "language": "python",
   "name": "cuda"
  },
  "language_info": {
   "codemirror_mode": {
    "name": "ipython",
    "version": 3
   },
   "file_extension": ".py",
   "mimetype": "text/x-python",
   "name": "python",
   "nbconvert_exporter": "python",
   "pygments_lexer": "ipython3",
   "version": "3.10.0"
  }
 },
 "nbformat": 4,
 "nbformat_minor": 4
}
