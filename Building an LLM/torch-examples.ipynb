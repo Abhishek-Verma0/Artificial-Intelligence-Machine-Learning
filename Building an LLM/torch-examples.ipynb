{
 "cells": [
  {
   "cell_type": "code",
   "execution_count": 1,
   "id": "de804af8-276f-474a-8293-93c0417be4e7",
   "metadata": {},
   "outputs": [
    {
     "name": "stdout",
     "output_type": "stream",
     "text": [
      "cpu\n"
     ]
    }
   ],
   "source": [
    "import torch\n",
    "import numpy as np\n",
    "import time\n",
    "device = 'cuda' if torch.cuda.is_available() else 'cpu'\n",
    "print(device)"
   ]
  },
  {
   "cell_type": "code",
   "execution_count": 2,
   "id": "b37fa33f-7996-4f09-90b0-7bcd76a94bae",
   "metadata": {},
   "outputs": [
    {
     "name": "stdout",
     "output_type": "stream",
     "text": [
      " 0.001008\n"
     ]
    }
   ],
   "source": [
    "start_time= time.time()\n",
    "#matrix operations over here \n",
    "zeros=torch.zeros(1,1)\n",
    "end_time= time.time()\n",
    "elapsed_time= end_time -start_time\n",
    "print(f\"{elapsed_time: 4f}\")"
   ]
  },
  {
   "cell_type": "code",
   "execution_count": 3,
   "id": "a601f61a-92d2-42d5-be1f-9e75357a18f8",
   "metadata": {},
   "outputs": [
    {
     "name": "stdout",
     "output_type": "stream",
     "text": [
      " 0.259060\n",
      " 0.303009\n"
     ]
    },
    {
     "name": "stderr",
     "output_type": "stream",
     "text": [
      "C:\\Users\\neele\\AppData\\Local\\Temp\\ipykernel_13320\\731097919.py:14: DeprecationWarning: __array_wrap__ must accept context and return_scalar arguments (positionally) in the future. (Deprecated NumPy 2.0)\n",
      "  rand=np.multiply(np_rand1,np_rand2)\n"
     ]
    }
   ],
   "source": [
    "#  this shows the cpu works faster on lesser features using numpy than torch if features\n",
    "#  then torch performs much better than the numpy\n",
    "\n",
    "torch_rand1=torch.rand(100,100,100,100).to(device)\n",
    "torch_rand2=torch.rand(100,100,100,100).to(device)\n",
    "np_rand1=torch.rand(100,100,100,100)\n",
    "np_rand2=torch.rand(100,100,100,100)\n",
    "start_time=time.time()\n",
    "rand= (torch_rand1 @ torch_rand2)\n",
    "end_time=time.time()\n",
    "elapsed_time=end_time - start_time\n",
    "print(f\"{elapsed_time: 8f}\")\n",
    "start_time=time.time()\n",
    "rand=np.multiply(np_rand1,np_rand2)\n",
    "end_time=time.time()\n",
    "elapsed_time=end_time -start_time\n",
    "print(f\"{elapsed_time: 8f}\")"
   ]
  },
  {
   "cell_type": "code",
   "execution_count": 4,
   "id": "76685982-a490-4a82-adf9-dc8bb54d14cb",
   "metadata": {},
   "outputs": [],
   "source": [
    "# Embeddings  ---  embedding layers normally used in Deep Learning / neural network some in machine learning\n",
    "# import torch.nn as tcn\n",
    "#gradient descent -- optimisers "
   ]
  }
 ],
 "metadata": {
  "kernelspec": {
   "display_name": "cuda-gpt",
   "language": "python",
   "name": "cuda"
  },
  "language_info": {
   "codemirror_mode": {
    "name": "ipython",
    "version": 3
   },
   "file_extension": ".py",
   "mimetype": "text/x-python",
   "name": "python",
   "nbconvert_exporter": "python",
   "pygments_lexer": "ipython3",
   "version": "3.10.0"
  }
 },
 "nbformat": 4,
 "nbformat_minor": 5
}
